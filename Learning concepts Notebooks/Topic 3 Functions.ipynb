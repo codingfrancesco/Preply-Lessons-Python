{
 "cells": [
  {
   "cell_type": "code",
   "execution_count": 1,
   "metadata": {},
   "outputs": [],
   "source": [
    "# i want you to create a variable and give me its equation \n",
    "# 2*x**3 +9 , i need it for different values of x, x = 4,9,22,12,31,-19"
   ]
  },
  {
   "cell_type": "code",
   "execution_count": 2,
   "metadata": {},
   "outputs": [
    {
     "name": "stdout",
     "output_type": "stream",
     "text": [
      "4 137\n",
      "9 1467\n",
      "22 21286\n",
      "31 59582\n",
      "-19 -13718\n"
     ]
    }
   ],
   "source": [
    "x = 4\n",
    "y = 2*x**3 + 9\n",
    "print(x,y)\n",
    "\n",
    "x = 9 \n",
    "y = 2*x**3 + 9\n",
    "print(x,y)\n",
    "\n",
    "\n",
    "x = 22 \n",
    "y = 2*x**3 + 9 -19\n",
    "print(x,y)\n",
    "\n",
    "x = 31 \n",
    "y = 2*x**3 \n",
    "print(x,y)\n",
    "\n",
    "x = -19\n",
    "y = 2*x**3\n",
    "print(x,y)"
   ]
  },
  {
   "cell_type": "code",
   "execution_count": 3,
   "metadata": {},
   "outputs": [],
   "source": [
    "# we can save ourself from writing code again and again"
   ]
  },
  {
   "cell_type": "code",
   "execution_count": 6,
   "metadata": {},
   "outputs": [],
   "source": [
    "def francesco_function(x):\n",
    "    y = 2*x**3 + 9\n",
    "    print(x,y)\n",
    "    return y"
   ]
  },
  {
   "cell_type": "code",
   "execution_count": 7,
   "metadata": {},
   "outputs": [
    {
     "name": "stdout",
     "output_type": "stream",
     "text": [
      "4 137\n",
      "9 1467\n",
      "22 21305\n",
      "31 59591\n",
      "-19 -13709\n"
     ]
    },
    {
     "data": {
      "text/plain": [
       "-13709"
      ]
     },
     "execution_count": 7,
     "metadata": {},
     "output_type": "execute_result"
    }
   ],
   "source": [
    "francesco_function(4)\n",
    "francesco_function(9)\n",
    "francesco_function(22)\n",
    "francesco_function(31)\n",
    "francesco_function(-19) \n",
    "\n"
   ]
  },
  {
   "cell_type": "code",
   "execution_count": 8,
   "metadata": {},
   "outputs": [],
   "source": [
    "# make a function Francesco_percetnage(x,y), using x/y*100 it wil give you percentage "
   ]
  },
  {
   "cell_type": "code",
   "execution_count": 9,
   "metadata": {},
   "outputs": [],
   "source": [
    "def Francesco_percetnage(x,y):\n",
    "    percentage = x/y*100\n",
    "    return(percentage)\n"
   ]
  },
  {
   "cell_type": "code",
   "execution_count": 10,
   "metadata": {},
   "outputs": [
    {
     "data": {
      "text/plain": [
       "45.0"
      ]
     },
     "execution_count": 10,
     "metadata": {},
     "output_type": "execute_result"
    }
   ],
   "source": [
    "Francesco_percetnage(9,20)"
   ]
  },
  {
   "cell_type": "code",
   "execution_count": 11,
   "metadata": {},
   "outputs": [
    {
     "data": {
      "text/plain": [
       "75.0"
      ]
     },
     "execution_count": 11,
     "metadata": {},
     "output_type": "execute_result"
    }
   ],
   "source": [
    "Francesco_percetnage(15,20)"
   ]
  },
  {
   "cell_type": "code",
   "execution_count": null,
   "metadata": {},
   "outputs": [],
   "source": [
    "# to be continued...."
   ]
  },
  {
   "cell_type": "code",
   "execution_count": 4,
   "metadata": {},
   "outputs": [],
   "source": [
    "# make a function to add teo numbers\n",
    "def randomabc(x,y):\n",
    "    z = x+y\n",
    "    return z\n",
    "\n"
   ]
  },
  {
   "cell_type": "code",
   "execution_count": 5,
   "metadata": {},
   "outputs": [
    {
     "data": {
      "text/plain": [
       "5"
      ]
     },
     "execution_count": 5,
     "metadata": {},
     "output_type": "execute_result"
    }
   ],
   "source": [
    "randomabc(2,3)"
   ]
  },
  {
   "cell_type": "code",
   "execution_count": 7,
   "metadata": {},
   "outputs": [
    {
     "data": {
      "text/plain": [
       "True"
      ]
     },
     "execution_count": 7,
     "metadata": {},
     "output_type": "execute_result"
    }
   ],
   "source": [
    "x = 'i love apples'\n",
    "y = 'a'\n",
    "i = 'love'\n",
    "y in x"
   ]
  },
  {
   "cell_type": "code",
   "execution_count": 8,
   "metadata": {},
   "outputs": [
    {
     "data": {
      "text/plain": [
       "True"
      ]
     },
     "execution_count": 8,
     "metadata": {},
     "output_type": "execute_result"
    }
   ],
   "source": [
    "i in x"
   ]
  },
  {
   "cell_type": "code",
   "execution_count": 9,
   "metadata": {},
   "outputs": [],
   "source": [
    "d = \"\"\"\n",
    "Authored by Justice Isa years before he took oath as the chief justice, the searing judgement had instructed the defence ministry and the tri-services chiefs to penalise personnel under their command who were found to have violated their oath.\n",
    "\n",
    "It had also directed the federal government to monitor those advocating hate, extremism and terrorism and prosecute them in accordance with the law.\n",
    "\n",
    "Adverse observations were also made against several government departments for causing inconvenience to the public as the 20-day sit-in paralysed life in both Islamabad and Rawalpindi.\n",
    "\n",
    "Pleas were subsequently moved against the verdict by the Ministry of Defence, the Intelligence Bureau (IB), the PTI, Pakistan Electronic Media Regulatory Authority (Pemra), the Election Commission of Pakistan (ECP), the Mutta­hida Qaumi Movement (MQM), AML chief Sheikh Rashid and Ijazul Haq\n",
    "\"\"\""
   ]
  },
  {
   "cell_type": "code",
   "execution_count": 14,
   "metadata": {},
   "outputs": [
    {
     "data": {
      "text/plain": [
       "True"
      ]
     },
     "execution_count": 14,
     "metadata": {},
     "output_type": "execute_result"
    }
   ],
   "source": [
    "'an' in d"
   ]
  },
  {
   "cell_type": "code",
   "execution_count": 15,
   "metadata": {},
   "outputs": [],
   "source": [
    "# make a function in which, if i pass string it shoud return if dog is presrent or not"
   ]
  },
  {
   "cell_type": "code",
   "execution_count": 16,
   "metadata": {},
   "outputs": [],
   "source": [
    "def dog_present(x):\n",
    "    if 'dog' in x:\n",
    "        return True\n",
    "    else:\n",
    "        return False\n"
   ]
  },
  {
   "cell_type": "code",
   "execution_count": 17,
   "metadata": {},
   "outputs": [
    {
     "data": {
      "text/plain": [
       "True"
      ]
     },
     "execution_count": 17,
     "metadata": {},
     "output_type": "execute_result"
    }
   ],
   "source": [
    "dog_present('i love mangos and i have no dog in my home')"
   ]
  },
  {
   "cell_type": "code",
   "execution_count": 23,
   "metadata": {},
   "outputs": [],
   "source": [
    "lolz = 'hello how are you i am sad and'"
   ]
  },
  {
   "cell_type": "code",
   "execution_count": 26,
   "metadata": {},
   "outputs": [],
   "source": [
    "# make a function which will test if name is admin or not"
   ]
  },
  {
   "cell_type": "code",
   "execution_count": 27,
   "metadata": {},
   "outputs": [
    {
     "data": {
      "text/plain": [
       "False"
      ]
     },
     "execution_count": 27,
     "metadata": {},
     "output_type": "execute_result"
    }
   ],
   "source": [
    "def admin_present(y):\n",
    "    if 'admin' in y:\n",
    "        return True\n",
    "    else:\n",
    "        return False\n",
    "admin_present('i love mangos and i have no dog in my home')"
   ]
  },
  {
   "cell_type": "code",
   "execution_count": 28,
   "metadata": {},
   "outputs": [
    {
     "data": {
      "text/plain": [
       "True"
      ]
     },
     "execution_count": 28,
     "metadata": {},
     "output_type": "execute_result"
    }
   ],
   "source": [
    "admin_present('admin')"
   ]
  },
  {
   "cell_type": "code",
   "execution_count": 29,
   "metadata": {},
   "outputs": [],
   "source": [
    "# if user is admin print special greeting else just say hi\n"
   ]
  },
  {
   "cell_type": "code",
   "execution_count": 34,
   "metadata": {},
   "outputs": [],
   "source": [
    "def admin_present(y):\n",
    "    if 'admin' in y:\n",
    "        print('helooooo admin how are you please increase my salary')\n",
    "    else:\n",
    "        print(f' and his name is... {y}')"
   ]
  },
  {
   "cell_type": "code",
   "execution_count": 35,
   "metadata": {},
   "outputs": [
    {
     "name": "stdout",
     "output_type": "stream",
     "text": [
      " and his name is... john cena!!!!\n"
     ]
    }
   ],
   "source": [
    "admin_present('john cena!!!!')"
   ]
  },
  {
   "cell_type": "code",
   "execution_count": 32,
   "metadata": {},
   "outputs": [
    {
     "name": "stdout",
     "output_type": "stream",
     "text": [
      "helooooo admin how are you please increase my salary\n"
     ]
    }
   ],
   "source": [
    "admin_present('admin')"
   ]
  },
  {
   "cell_type": "code",
   "execution_count": 37,
   "metadata": {},
   "outputs": [],
   "source": [
    "# make our virtual robot"
   ]
  },
  {
   "cell_type": "code",
   "execution_count": 5,
   "metadata": {},
   "outputs": [],
   "source": [
    "def robot (name):\n",
    "    print(f'hello {name} my name is robot_x')\n",
    "    print('press 1, i will sing a song for you')\n",
    "    print('press 2 i will sleep')\n",
    "    x = input('please enter your choice:')\n",
    "    if x =='1':\n",
    "        print('lalalalallala')\n",
    "    else:\n",
    "        print('byeeee')"
   ]
  },
  {
   "cell_type": "code",
   "execution_count": 6,
   "metadata": {},
   "outputs": [
    {
     "name": "stdout",
     "output_type": "stream",
     "text": [
      "hello Francesco my name is robot_x\n",
      "press 1, i will sing a song for you\n",
      "press 2 i will sleep\n",
      "lalalalallala\n"
     ]
    }
   ],
   "source": [
    "robot('Francesco')"
   ]
  },
  {
   "cell_type": "code",
   "execution_count": 8,
   "metadata": {},
   "outputs": [],
   "source": [
    "# make a function to convert celsius to fahrenheit"
   ]
  },
  {
   "cell_type": "code",
   "execution_count": 11,
   "metadata": {},
   "outputs": [],
   "source": [
    "def C2F(C):\n",
    "    f =( C*9/5)+32  \n",
    "    return f"
   ]
  },
  {
   "cell_type": "code",
   "execution_count": 13,
   "metadata": {},
   "outputs": [
    {
     "data": {
      "text/plain": [
       "87.8"
      ]
     },
     "execution_count": 13,
     "metadata": {},
     "output_type": "execute_result"
    }
   ],
   "source": [
    "C2F (31)\n"
   ]
  },
  {
   "cell_type": "code",
   "execution_count": null,
   "metadata": {},
   "outputs": [],
   "source": []
  },
  {
   "cell_type": "code",
   "execution_count": null,
   "metadata": {},
   "outputs": [],
   "source": []
  }
 ],
 "metadata": {
  "kernelspec": {
   "display_name": "Python 3",
   "language": "python",
   "name": "python3"
  },
  "language_info": {
   "codemirror_mode": {
    "name": "ipython",
    "version": 3
   },
   "file_extension": ".py",
   "mimetype": "text/x-python",
   "name": "python",
   "nbconvert_exporter": "python",
   "pygments_lexer": "ipython3",
   "version": "3.11.9"
  }
 },
 "nbformat": 4,
 "nbformat_minor": 2
}
