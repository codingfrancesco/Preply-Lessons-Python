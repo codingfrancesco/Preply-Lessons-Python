{
 "cells": [
  {
   "cell_type": "markdown",
   "metadata": {},
   "source": [
    "# limited or for loop\n",
    "# conditonal or while loop"
   ]
  },
  {
   "cell_type": "code",
   "execution_count": 2,
   "metadata": {},
   "outputs": [],
   "source": [
    "# why there is need of a loop"
   ]
  },
  {
   "cell_type": "code",
   "execution_count": 3,
   "metadata": {},
   "outputs": [
    {
     "name": "stdout",
     "output_type": "stream",
     "text": [
      "Francesco\n",
      "Francesco\n",
      "Francesco\n",
      "Francesco\n",
      "Francesco\n",
      "Francesco\n",
      "Francesco\n",
      "Francesco\n",
      "Francesco\n",
      "Francesco\n"
     ]
    }
   ],
   "source": [
    "print('Francesco')\n",
    "print('Francesco')\n",
    "print('Francesco')\n",
    "print('Francesco')\n",
    "print('Francesco')\n",
    "print('Francesco')\n",
    "print('Francesco')\n",
    "print('Francesco')\n",
    "print('Francesco')\n",
    "print('Francesco')\n"
   ]
  },
  {
   "cell_type": "code",
   "execution_count": 4,
   "metadata": {},
   "outputs": [
    {
     "name": "stdout",
     "output_type": "stream",
     "text": [
      "Franscesco 0\n",
      "Franscesco 1\n",
      "Franscesco 2\n",
      "Franscesco 3\n",
      "Franscesco 4\n",
      "Franscesco 5\n",
      "Franscesco 6\n",
      "Franscesco 7\n",
      "Franscesco 8\n",
      "Franscesco 9\n"
     ]
    }
   ],
   "source": [
    "for i in range(10):\n",
    "    print(f'Franscesco {i}')"
   ]
  },
  {
   "cell_type": "code",
   "execution_count": 5,
   "metadata": {},
   "outputs": [],
   "source": [
    "# print counting from 1 to 50 "
   ]
  },
  {
   "cell_type": "code",
   "execution_count": 6,
   "metadata": {},
   "outputs": [
    {
     "name": "stdout",
     "output_type": "stream",
     "text": [
      "0\n",
      "1\n",
      "2\n",
      "3\n",
      "4\n",
      "5\n",
      "6\n",
      "7\n",
      "8\n",
      "9\n",
      "10\n",
      "11\n",
      "12\n",
      "13\n",
      "14\n",
      "15\n",
      "16\n",
      "17\n",
      "18\n",
      "19\n",
      "20\n",
      "21\n",
      "22\n",
      "23\n",
      "24\n",
      "25\n",
      "26\n",
      "27\n",
      "28\n",
      "29\n",
      "30\n",
      "31\n",
      "32\n",
      "33\n",
      "34\n",
      "35\n",
      "36\n",
      "37\n",
      "38\n",
      "39\n",
      "40\n",
      "41\n",
      "42\n",
      "43\n",
      "44\n",
      "45\n",
      "46\n",
      "47\n",
      "48\n",
      "49\n",
      "50\n",
      "51\n",
      "52\n",
      "53\n",
      "54\n",
      "55\n",
      "56\n",
      "57\n",
      "58\n",
      "59\n",
      "60\n",
      "61\n",
      "62\n",
      "63\n",
      "64\n",
      "65\n",
      "66\n",
      "67\n",
      "68\n"
     ]
    }
   ],
   "source": [
    "for i in range(69):\n",
    "    print(i)"
   ]
  },
  {
   "cell_type": "code",
   "execution_count": 7,
   "metadata": {},
   "outputs": [
    {
     "name": "stdout",
     "output_type": "stream",
     "text": [
      "Francesco\n",
      "Francesco\n",
      "Francesco\n",
      "Francesco\n",
      "Francesco\n",
      "Francesco\n",
      "Francesco\n",
      "Francesco\n",
      "Francesco\n",
      "Francesco\n"
     ]
    }
   ],
   "source": [
    "x=10\n",
    "while x<20:\n",
    "    print('Francesco')\n",
    "    x = x+1"
   ]
  },
  {
   "cell_type": "code",
   "execution_count": 8,
   "metadata": {},
   "outputs": [],
   "source": [
    "# if you to calcualt something but you are not sure until waht value you need to do contring or something then we use while loop"
   ]
  },
  {
   "cell_type": "code",
   "execution_count": 9,
   "metadata": {},
   "outputs": [
    {
     "name": "stdout",
     "output_type": "stream",
     "text": [
      "sorry you wrote wrongly write again 20\n",
      "equation is  -358 on value\n",
      "sorry you wrote wrongly write again 20\n",
      "equation is  -358 on value\n",
      "sorry you wrote wrongly write again 20\n",
      "equation is  -358 on value\n",
      "sorry you wrote wrongly write again 20\n",
      "equation is  -358 on value\n",
      "sorry you wrote wrongly write again 20\n",
      "equation is  -358 on value\n",
      "sorry you wrote wrongly write again 20\n",
      "equation is  -358 on value\n"
     ]
    }
   ],
   "source": [
    "z = 10\n",
    "while abs(z)>1:\n",
    "    try:\n",
    "        x = float(input('please enter value of x:'))\n",
    "    except:\n",
    "        print('sorry you wrote wrongly write again',x)\n",
    "    z = 2*x-x**2 +2\n",
    "    print('equation is ',z,'on value')\n",
    "    y = input('please write q to quit and n to not quit:')\n",
    "    if y =='q':\n",
    "        break"
   ]
  },
  {
   "cell_type": "code",
   "execution_count": null,
   "metadata": {},
   "outputs": [
    {
     "name": "stdout",
     "output_type": "stream",
     "text": [
      "apple is a delicious fruit\n",
      "orange is a delicious fruit\n",
      "mango is a delicious fruit\n"
     ]
    }
   ],
   "source": [
    "x = ['apple','orange','mango']\n",
    "for each in x:# iterate\n",
    "    print(each,'is a delicious fruit')"
   ]
  },
  {
   "cell_type": "code",
   "execution_count": null,
   "metadata": {},
   "outputs": [],
   "source": [
    "# make a list sof 5 cars with their model names\n",
    "# it should print like this e.g, farrari 2025 is car\n",
    "\n",
    "Cars = ['lamborginni','maserati','alfa romeo','fiat 500','bmw']"
   ]
  },
  {
   "cell_type": "code",
   "execution_count": null,
   "metadata": {},
   "outputs": [
    {
     "name": "stdout",
     "output_type": "stream",
     "text": [
      "lamborginni is my favourite car\n",
      "maserati is my favourite car\n",
      "alfa romeo is my favourite car\n",
      "fiat 500 is my favourite car\n",
      "bmw is my favourite car\n"
     ]
    }
   ],
   "source": [
    "for francesco in Cars:\n",
    "    print(francesco, 'is my favourite car')"
   ]
  },
  {
   "cell_type": "code",
   "execution_count": null,
   "metadata": {},
   "outputs": [],
   "source": [
    "# iteration!\n",
    "\n",
    "for i in range(10):\n",
    "    print(i)"
   ]
  },
  {
   "cell_type": "code",
   "execution_count": 2,
   "metadata": {},
   "outputs": [
    {
     "name": "stdout",
     "output_type": "stream",
     "text": [
      "1\n",
      "2\n",
      "3\n",
      "4\n",
      "5\n",
      "6\n",
      "7\n",
      "8\n",
      "9\n",
      "10\n"
     ]
    }
   ],
   "source": [
    "fran = [1,2,3,4,5,6,7,8,9,10]\n",
    "for i in fran:\n",
    "    print(i)"
   ]
  },
  {
   "cell_type": "code",
   "execution_count": 6,
   "metadata": {},
   "outputs": [
    {
     "name": "stdout",
     "output_type": "stream",
     "text": [
      "messy\n",
      "ronaldo is my favourite\n",
      "francesco\n",
      "mbappe\n",
      "neymar\n",
      "kane\n"
     ]
    }
   ],
   "source": [
    "players = ['messy','ronaldo','francesco','mbappe','neymar','kane']\n",
    "\n",
    "for player in players:\n",
    "    if player == 'ronaldo':\n",
    "        print('ronaldo is my favourite')\n",
    "    else:\n",
    "        print(player)"
   ]
  },
  {
   "cell_type": "code",
   "execution_count": 11,
   "metadata": {},
   "outputs": [
    {
     "name": "stdout",
     "output_type": "stream",
     "text": [
      "[1, 2]\n",
      "['apple', 'orange']\n",
      "['red', 'blue']\n"
     ]
    }
   ],
   "source": [
    "x = [[1,2],['apple','orange'],['red','blue']]\n",
    "for i in x:\n",
    "    print(i)"
   ]
  },
  {
   "cell_type": "code",
   "execution_count": null,
   "metadata": {},
   "outputs": [],
   "source": []
  }
 ],
 "metadata": {
  "kernelspec": {
   "display_name": "Python 3",
   "language": "python",
   "name": "python3"
  },
  "language_info": {
   "codemirror_mode": {
    "name": "ipython",
    "version": 3
   },
   "file_extension": ".py",
   "mimetype": "text/x-python",
   "name": "python",
   "nbconvert_exporter": "python",
   "pygments_lexer": "ipython3",
   "version": "3.11.9"
  }
 },
 "nbformat": 4,
 "nbformat_minor": 2
}
