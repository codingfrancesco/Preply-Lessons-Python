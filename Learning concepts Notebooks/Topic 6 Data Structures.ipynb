{
 "cells": [
  {
   "cell_type": "markdown",
   "metadata": {},
   "source": [
    "### write 4 different variable and assign 4 different values to those variables, respectively"
   ]
  },
  {
   "cell_type": "code",
   "execution_count": 1,
   "metadata": {},
   "outputs": [],
   "source": [
    "x = 90 \n",
    "y = 'hello'\n",
    "z = 80.6\n",
    "w = True\n"
   ]
  },
  {
   "cell_type": "markdown",
   "metadata": {},
   "source": [
    "### there is need to store multipe values in 1 variable, b/c if we have 1 million values will we write 100000 vaiables?"
   ]
  },
  {
   "cell_type": "code",
   "execution_count": 3,
   "metadata": {},
   "outputs": [],
   "source": [
    "# there are 4 total basic DS in python , 1. list, 2.tuple, 3. set 4. dictionary"
   ]
  },
  {
   "cell_type": "code",
   "execution_count": 5,
   "metadata": {},
   "outputs": [],
   "source": [
    "### 1. list, it is sequenctial type data struture"
   ]
  },
  {
   "cell_type": "code",
   "execution_count": 8,
   "metadata": {},
   "outputs": [],
   "source": [
    "g = [ 90, 'hello', 80.6, True ]"
   ]
  },
  {
   "cell_type": "code",
   "execution_count": 9,
   "metadata": {},
   "outputs": [
    {
     "name": "stdout",
     "output_type": "stream",
     "text": [
      "[90, 'hello', 80.6, True]\n"
     ]
    }
   ],
   "source": [
    "print(g)"
   ]
  },
  {
   "cell_type": "code",
   "execution_count": 10,
   "metadata": {},
   "outputs": [],
   "source": [
    "# python indexing start from 0"
   ]
  },
  {
   "cell_type": "code",
   "execution_count": 12,
   "metadata": {},
   "outputs": [
    {
     "name": "stdout",
     "output_type": "stream",
     "text": [
      "hello\n"
     ]
    }
   ],
   "source": [
    "print( g[1] )"
   ]
  },
  {
   "cell_type": "code",
   "execution_count": 15,
   "metadata": {},
   "outputs": [
    {
     "name": "stdout",
     "output_type": "stream",
     "text": [
      "90\n"
     ]
    }
   ],
   "source": [
    "print( g[0] )"
   ]
  },
  {
   "cell_type": "code",
   "execution_count": 16,
   "metadata": {},
   "outputs": [
    {
     "name": "stdout",
     "output_type": "stream",
     "text": [
      "True\n"
     ]
    }
   ],
   "source": [
    "print(g[3])"
   ]
  },
  {
   "cell_type": "code",
   "execution_count": 17,
   "metadata": {},
   "outputs": [],
   "source": [
    "# please make a list of 5 fruits"
   ]
  },
  {
   "cell_type": "code",
   "execution_count": 18,
   "metadata": {},
   "outputs": [],
   "source": [
    "e = [ 'banana', 'apple', 'avocado', 'cherry']"
   ]
  },
  {
   "cell_type": "code",
   "execution_count": 20,
   "metadata": {},
   "outputs": [
    {
     "name": "stdout",
     "output_type": "stream",
     "text": [
      "['banana', 'apple', 'avocado', 'cherry']\n"
     ]
    }
   ],
   "source": [
    "print(e)"
   ]
  },
  {
   "cell_type": "code",
   "execution_count": 21,
   "metadata": {},
   "outputs": [
    {
     "name": "stdout",
     "output_type": "stream",
     "text": [
      "avocado\n"
     ]
    }
   ],
   "source": [
    "print(e[2])"
   ]
  },
  {
   "cell_type": "code",
   "execution_count": 28,
   "metadata": {},
   "outputs": [],
   "source": [
    "x = ['francesco', 'umair','colin','andy','robert','john cena','percy','Elon Musk']\n",
    "rand_age  = [10,30,20,15,50,60,21,69]"
   ]
  },
  {
   "cell_type": "code",
   "execution_count": 35,
   "metadata": {},
   "outputs": [
    {
     "name": "stdout",
     "output_type": "stream",
     "text": [
      "87 has age 11\n",
      "100 has age 31\n",
      "80 has age 21\n",
      "92 has age 16\n",
      "98 has age 51\n",
      "95 has age 61\n",
      "95 has age 22\n",
      "88 has age 70\n"
     ]
    }
   ],
   "source": [
    "for i in range(8):\n",
    "    print(x[i],'has age',rand_age[i]+1)"
   ]
  },
  {
   "cell_type": "code",
   "execution_count": 36,
   "metadata": {},
   "outputs": [],
   "source": [
    "import random\n",
    "temp_f = [random.randint(80,107) for i in range(100)]"
   ]
  },
  {
   "cell_type": "code",
   "execution_count": 38,
   "metadata": {},
   "outputs": [
    {
     "name": "stdout",
     "output_type": "stream",
     "text": [
      "[89, 85, 80, 85, 81, 92, 98, 90, 105, 102, 94, 98, 91, 96, 94, 86, 84, 103, 103, 80, 98, 85, 102, 81, 94, 83, 101, 89, 105, 90, 99, 81, 94, 90, 95, 99, 94, 83, 106, 101, 105, 103, 101, 97, 98, 98, 90, 104, 96, 82, 97, 86, 93, 95, 89, 93, 99, 97, 92, 90, 95, 92, 83, 83, 91, 80, 81, 96, 82, 97, 97, 80, 90, 97, 94, 100, 85, 94, 92, 85, 104, 103, 106, 97, 96, 85, 83, 97, 82, 99, 100, 96, 87, 91, 83, 81, 82, 96, 101, 106]\n"
     ]
    }
   ],
   "source": [
    "print(temp_f)"
   ]
  },
  {
   "cell_type": "code",
   "execution_count": 33,
   "metadata": {},
   "outputs": [],
   "source": [
    "# your task is to change this from F to C , \n",
    "\n",
    "# C = (F-32)  * 5/9"
   ]
  },
  {
   "cell_type": "code",
   "execution_count": 40,
   "metadata": {},
   "outputs": [
    {
     "name": "stdout",
     "output_type": "stream",
     "text": [
      "C= 31.666666666666668 F= 89\n",
      "C= 29.444444444444443 F= 85\n",
      "C= 26.666666666666668 F= 80\n",
      "C= 29.444444444444443 F= 85\n",
      "C= 27.22222222222222 F= 81\n",
      "C= 33.333333333333336 F= 92\n",
      "C= 36.666666666666664 F= 98\n",
      "C= 32.22222222222222 F= 90\n",
      "C= 40.55555555555556 F= 105\n",
      "C= 38.888888888888886 F= 102\n",
      "C= 34.44444444444444 F= 94\n",
      "C= 36.666666666666664 F= 98\n",
      "C= 32.77777777777778 F= 91\n",
      "C= 35.55555555555556 F= 96\n",
      "C= 34.44444444444444 F= 94\n",
      "C= 30.0 F= 86\n",
      "C= 28.88888888888889 F= 84\n",
      "C= 39.44444444444444 F= 103\n",
      "C= 39.44444444444444 F= 103\n",
      "C= 26.666666666666668 F= 80\n",
      "C= 36.666666666666664 F= 98\n",
      "C= 29.444444444444443 F= 85\n",
      "C= 38.888888888888886 F= 102\n",
      "C= 27.22222222222222 F= 81\n",
      "C= 34.44444444444444 F= 94\n",
      "C= 28.333333333333332 F= 83\n",
      "C= 38.333333333333336 F= 101\n",
      "C= 31.666666666666668 F= 89\n",
      "C= 40.55555555555556 F= 105\n",
      "C= 32.22222222222222 F= 90\n",
      "C= 37.22222222222222 F= 99\n",
      "C= 27.22222222222222 F= 81\n",
      "C= 34.44444444444444 F= 94\n",
      "C= 32.22222222222222 F= 90\n",
      "C= 35.0 F= 95\n",
      "C= 37.22222222222222 F= 99\n",
      "C= 34.44444444444444 F= 94\n",
      "C= 28.333333333333332 F= 83\n",
      "C= 41.111111111111114 F= 106\n",
      "C= 38.333333333333336 F= 101\n",
      "C= 40.55555555555556 F= 105\n",
      "C= 39.44444444444444 F= 103\n",
      "C= 38.333333333333336 F= 101\n",
      "C= 36.111111111111114 F= 97\n",
      "C= 36.666666666666664 F= 98\n",
      "C= 36.666666666666664 F= 98\n",
      "C= 32.22222222222222 F= 90\n",
      "C= 40.0 F= 104\n",
      "C= 35.55555555555556 F= 96\n",
      "C= 27.77777777777778 F= 82\n",
      "C= 36.111111111111114 F= 97\n",
      "C= 30.0 F= 86\n",
      "C= 33.888888888888886 F= 93\n",
      "C= 35.0 F= 95\n",
      "C= 31.666666666666668 F= 89\n",
      "C= 33.888888888888886 F= 93\n",
      "C= 37.22222222222222 F= 99\n",
      "C= 36.111111111111114 F= 97\n",
      "C= 33.333333333333336 F= 92\n",
      "C= 32.22222222222222 F= 90\n",
      "C= 35.0 F= 95\n",
      "C= 33.333333333333336 F= 92\n",
      "C= 28.333333333333332 F= 83\n",
      "C= 28.333333333333332 F= 83\n",
      "C= 32.77777777777778 F= 91\n",
      "C= 26.666666666666668 F= 80\n",
      "C= 27.22222222222222 F= 81\n",
      "C= 35.55555555555556 F= 96\n",
      "C= 27.77777777777778 F= 82\n",
      "C= 36.111111111111114 F= 97\n",
      "C= 36.111111111111114 F= 97\n",
      "C= 26.666666666666668 F= 80\n",
      "C= 32.22222222222222 F= 90\n",
      "C= 36.111111111111114 F= 97\n",
      "C= 34.44444444444444 F= 94\n",
      "C= 37.77777777777778 F= 100\n",
      "C= 29.444444444444443 F= 85\n",
      "C= 34.44444444444444 F= 94\n",
      "C= 33.333333333333336 F= 92\n",
      "C= 29.444444444444443 F= 85\n",
      "C= 40.0 F= 104\n",
      "C= 39.44444444444444 F= 103\n",
      "C= 41.111111111111114 F= 106\n",
      "C= 36.111111111111114 F= 97\n",
      "C= 35.55555555555556 F= 96\n",
      "C= 29.444444444444443 F= 85\n",
      "C= 28.333333333333332 F= 83\n",
      "C= 36.111111111111114 F= 97\n",
      "C= 27.77777777777778 F= 82\n",
      "C= 37.22222222222222 F= 99\n",
      "C= 37.77777777777778 F= 100\n",
      "C= 35.55555555555556 F= 96\n",
      "C= 30.555555555555557 F= 87\n",
      "C= 32.77777777777778 F= 91\n",
      "C= 28.333333333333332 F= 83\n",
      "C= 27.22222222222222 F= 81\n",
      "C= 27.77777777777778 F= 82\n",
      "C= 35.55555555555556 F= 96\n",
      "C= 38.333333333333336 F= 101\n",
      "C= 41.111111111111114 F= 106\n"
     ]
    }
   ],
   "source": [
    "for i in range(len(temp_f)):\n",
    "    F = temp_f[i]\n",
    "    C = (F - 32) * 5/9\n",
    "    print('C=',C,'F=',F)\n",
    "    "
   ]
  },
  {
   "cell_type": "code",
   "execution_count": 43,
   "metadata": {},
   "outputs": [
    {
     "name": "stdout",
     "output_type": "stream",
     "text": [
      "0.1 km\n",
      "0.2 km\n",
      "0.5 km\n",
      "1.0 km\n",
      "50.0 km\n"
     ]
    }
   ],
   "source": [
    "# \n",
    "x = [100,200,500,1000,50000] # this is in metters make print for distance in Km\n",
    "for i in range(len(x)):\n",
    "    d = x[i]\n",
    "    print(d/1000,'km')"
   ]
  },
  {
   "cell_type": "code",
   "execution_count": 45,
   "metadata": {},
   "outputs": [
    {
     "name": "stdout",
     "output_type": "stream",
     "text": [
      "10\n",
      "11\n",
      "12\n",
      "13\n",
      "14\n",
      "15\n",
      "16\n",
      "17\n"
     ]
    },
    {
     "ename": "KeyboardInterrupt",
     "evalue": "",
     "output_type": "error",
     "traceback": [
      "\u001b[1;31m---------------------------------------------------------------------------\u001b[0m",
      "\u001b[1;31mKeyboardInterrupt\u001b[0m                         Traceback (most recent call last)",
      "Cell \u001b[1;32mIn[45], line 3\u001b[0m\n\u001b[0;32m      1\u001b[0m \u001b[38;5;66;03m# print counting from 10 to 50\u001b[39;00m\n\u001b[0;32m      2\u001b[0m \u001b[38;5;28;01mfor\u001b[39;00m i \u001b[38;5;129;01min\u001b[39;00m \u001b[38;5;28mrange\u001b[39m(\u001b[38;5;241m10\u001b[39m,\u001b[38;5;241m50\u001b[39m):\n\u001b[1;32m----> 3\u001b[0m     \u001b[38;5;28mprint\u001b[39m(i)\n",
      "Cell \u001b[1;32mIn[45], line 3\u001b[0m\n\u001b[0;32m      1\u001b[0m \u001b[38;5;66;03m# print counting from 10 to 50\u001b[39;00m\n\u001b[0;32m      2\u001b[0m \u001b[38;5;28;01mfor\u001b[39;00m i \u001b[38;5;129;01min\u001b[39;00m \u001b[38;5;28mrange\u001b[39m(\u001b[38;5;241m10\u001b[39m,\u001b[38;5;241m50\u001b[39m):\n\u001b[1;32m----> 3\u001b[0m     \u001b[38;5;28mprint\u001b[39m(i)\n",
      "File \u001b[1;32m_pydevd_bundle/pydevd_cython.pyx:1457\u001b[0m, in \u001b[0;36m_pydevd_bundle.pydevd_cython.SafeCallWrapper.__call__\u001b[1;34m()\u001b[0m\n",
      "File \u001b[1;32m_pydevd_bundle/pydevd_cython.pyx:701\u001b[0m, in \u001b[0;36m_pydevd_bundle.pydevd_cython.PyDBFrame.trace_dispatch\u001b[1;34m()\u001b[0m\n",
      "File \u001b[1;32m_pydevd_bundle/pydevd_cython.pyx:1395\u001b[0m, in \u001b[0;36m_pydevd_bundle.pydevd_cython.PyDBFrame.trace_dispatch\u001b[1;34m()\u001b[0m\n",
      "File \u001b[1;32m_pydevd_bundle/pydevd_cython.pyx:1344\u001b[0m, in \u001b[0;36m_pydevd_bundle.pydevd_cython.PyDBFrame.trace_dispatch\u001b[1;34m()\u001b[0m\n",
      "File \u001b[1;32m_pydevd_bundle/pydevd_cython.pyx:312\u001b[0m, in \u001b[0;36m_pydevd_bundle.pydevd_cython.PyDBFrame.do_wait_suspend\u001b[1;34m()\u001b[0m\n",
      "File \u001b[1;32m~\\AppData\\Local\\Packages\\PythonSoftwareFoundation.Python.3.11_qbz5n2kfra8p0\\LocalCache\\local-packages\\Python311\\site-packages\\debugpy\\_vendored\\pydevd\\pydevd.py:2070\u001b[0m, in \u001b[0;36mPyDB.do_wait_suspend\u001b[1;34m(self, thread, frame, event, arg, exception_type)\u001b[0m\n\u001b[0;32m   2067\u001b[0m             from_this_thread\u001b[38;5;241m.\u001b[39mappend(frame_custom_thread_id)\n\u001b[0;32m   2069\u001b[0m     \u001b[38;5;28;01mwith\u001b[39;00m \u001b[38;5;28mself\u001b[39m\u001b[38;5;241m.\u001b[39m_threads_suspended_single_notification\u001b[38;5;241m.\u001b[39mnotify_thread_suspended(thread_id, thread, stop_reason):\n\u001b[1;32m-> 2070\u001b[0m         keep_suspended \u001b[38;5;241m=\u001b[39m \u001b[38;5;28;43mself\u001b[39;49m\u001b[38;5;241;43m.\u001b[39;49m\u001b[43m_do_wait_suspend\u001b[49m\u001b[43m(\u001b[49m\u001b[43mthread\u001b[49m\u001b[43m,\u001b[49m\u001b[43m \u001b[49m\u001b[43mframe\u001b[49m\u001b[43m,\u001b[49m\u001b[43m \u001b[49m\u001b[43mevent\u001b[49m\u001b[43m,\u001b[49m\u001b[43m \u001b[49m\u001b[43marg\u001b[49m\u001b[43m,\u001b[49m\u001b[43m \u001b[49m\u001b[43msuspend_type\u001b[49m\u001b[43m,\u001b[49m\u001b[43m \u001b[49m\u001b[43mfrom_this_thread\u001b[49m\u001b[43m,\u001b[49m\u001b[43m \u001b[49m\u001b[43mframes_tracker\u001b[49m\u001b[43m)\u001b[49m\n\u001b[0;32m   2072\u001b[0m frames_list \u001b[38;5;241m=\u001b[39m \u001b[38;5;28;01mNone\u001b[39;00m\n\u001b[0;32m   2074\u001b[0m \u001b[38;5;28;01mif\u001b[39;00m keep_suspended:\n\u001b[0;32m   2075\u001b[0m     \u001b[38;5;66;03m# This means that we should pause again after a set next statement.\u001b[39;00m\n",
      "File \u001b[1;32m~\\AppData\\Local\\Packages\\PythonSoftwareFoundation.Python.3.11_qbz5n2kfra8p0\\LocalCache\\local-packages\\Python311\\site-packages\\debugpy\\_vendored\\pydevd\\pydevd.py:2106\u001b[0m, in \u001b[0;36mPyDB._do_wait_suspend\u001b[1;34m(self, thread, frame, event, arg, suspend_type, from_this_thread, frames_tracker)\u001b[0m\n\u001b[0;32m   2103\u001b[0m         \u001b[38;5;28mself\u001b[39m\u001b[38;5;241m.\u001b[39m_call_input_hook()\n\u001b[0;32m   2105\u001b[0m     \u001b[38;5;28mself\u001b[39m\u001b[38;5;241m.\u001b[39mprocess_internal_commands()\n\u001b[1;32m-> 2106\u001b[0m     time\u001b[38;5;241m.\u001b[39msleep(\u001b[38;5;241m0.01\u001b[39m)\n\u001b[0;32m   2108\u001b[0m \u001b[38;5;28mself\u001b[39m\u001b[38;5;241m.\u001b[39mcancel_async_evaluation(get_current_thread_id(thread), \u001b[38;5;28mstr\u001b[39m(\u001b[38;5;28mid\u001b[39m(frame)))\n\u001b[0;32m   2110\u001b[0m \u001b[38;5;66;03m# process any stepping instructions\u001b[39;00m\n",
      "\u001b[1;31mKeyboardInterrupt\u001b[0m: "
     ]
    }
   ],
   "source": [
    "# print counting from 10 to 50\n",
    "for i in range(10,50):\n",
    "    print(i)"
   ]
  }
 ],
 "metadata": {
  "kernelspec": {
   "display_name": "Python 3",
   "language": "python",
   "name": "python3"
  },
  "language_info": {
   "codemirror_mode": {
    "name": "ipython",
    "version": 3
   },
   "file_extension": ".py",
   "mimetype": "text/x-python",
   "name": "python",
   "nbconvert_exporter": "python",
   "pygments_lexer": "ipython3",
   "version": "3.11.9"
  }
 },
 "nbformat": 4,
 "nbformat_minor": 2
}
