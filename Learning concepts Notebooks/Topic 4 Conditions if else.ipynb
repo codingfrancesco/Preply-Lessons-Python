{
 "cells": [
  {
   "cell_type": "markdown",
   "metadata": {},
   "source": [
    "# comparative operations (> , == , != , < etc)"
   ]
  },
  {
   "cell_type": "code",
   "execution_count": 20,
   "metadata": {},
   "outputs": [
    {
     "name": "stdout",
     "output_type": "stream",
     "text": [
      "False\n",
      "True\n",
      "False\n",
      "True\n",
      "False\n",
      "True\n"
     ]
    }
   ],
   "source": [
    "x = 10\n",
    "y = 20\n",
    "\n",
    "print(x == y)\n",
    "\n",
    "print(x!= y)\n",
    "\n",
    "print(x > y)\n",
    "\n",
    "print(x < y)\n",
    "\n",
    "print(x >= y)\n",
    "\n",
    "print(x <= y)"
   ]
  },
  {
   "cell_type": "code",
   "execution_count": 1,
   "metadata": {},
   "outputs": [
    {
     "name": "stdout",
     "output_type": "stream",
     "text": [
      "is 4 equal to 2 False\n",
      "is 4 not equal to 2 True\n",
      "is 4 greater than 2 True\n",
      "is 4 less than 2 False\n",
      "is 4 greater than or equal to 2 True\n",
      "is 4 less than or equal to 2 False\n"
     ]
    }
   ],
   "source": [
    "# make a variable and get number from input \n",
    "# make anohter variable and compare both of them will comparative operations\n",
    "\n",
    "x = int(input(\"Enter a number: \"))\n",
    "y = int(input(\"Enter another number: \"))\n",
    "\n",
    "print(f'is {x} equal to {y}',x == y)\n",
    "\n",
    "print(f'is {x} not equal to {y}',x!= y)\n",
    "\n",
    "print(f'is {x} greater than {y}',x > y)\n",
    "\n",
    "print(f'is {x} less than {y}',x < y)\n",
    "\n",
    "print(f'is {x} greater than or equal to {y}',x >= y)\n",
    "\n",
    "print(f'is {x} less than or equal to {y}',x <= y)"
   ]
  },
  {
   "cell_type": "markdown",
   "metadata": {},
   "source": [
    "# Logical operations (and , or , not)"
   ]
  },
  {
   "cell_type": "code",
   "execution_count": 22,
   "metadata": {},
   "outputs": [
    {
     "data": {
      "text/plain": [
       "False"
      ]
     },
     "execution_count": 22,
     "metadata": {},
     "output_type": "execute_result"
    }
   ],
   "source": [
    "6 > 7 and 6<9"
   ]
  },
  {
   "cell_type": "code",
   "execution_count": 23,
   "metadata": {},
   "outputs": [
    {
     "data": {
      "text/plain": [
       "True"
      ]
     },
     "execution_count": 23,
     "metadata": {},
     "output_type": "execute_result"
    }
   ],
   "source": [
    "\n",
    "6 > 7 or 6<9"
   ]
  },
  {
   "cell_type": "code",
   "execution_count": 29,
   "metadata": {},
   "outputs": [
    {
     "data": {
      "text/plain": [
       "True"
      ]
     },
     "execution_count": 29,
     "metadata": {},
     "output_type": "execute_result"
    }
   ],
   "source": [
    "\n",
    "not False"
   ]
  },
  {
   "cell_type": "code",
   "execution_count": 25,
   "metadata": {},
   "outputs": [
    {
     "data": {
      "text/plain": [
       "True"
      ]
     },
     "execution_count": 25,
     "metadata": {},
     "output_type": "execute_result"
    }
   ],
   "source": [
    "# make a logical operator and comparative operator\n",
    "# in such a way, x <10 or x > 20\n",
    "x = -9\n",
    "\n",
    "x < 10 or x > 20"
   ]
  },
  {
   "cell_type": "code",
   "execution_count": 26,
   "metadata": {},
   "outputs": [
    {
     "data": {
      "text/plain": [
       "False"
      ]
     },
     "execution_count": 26,
     "metadata": {},
     "output_type": "execute_result"
    }
   ],
   "source": [
    "x = 'red'\n",
    "y = 100\n",
    "y >50 and x =='orange'"
   ]
  },
  {
   "cell_type": "code",
   "execution_count": 27,
   "metadata": {},
   "outputs": [
    {
     "data": {
      "text/plain": [
       "True"
      ]
     },
     "execution_count": 27,
     "metadata": {},
     "output_type": "execute_result"
    }
   ],
   "source": [
    "x = 'red'\n",
    "y = 100\n",
    "y >50 and x =='red'"
   ]
  },
  {
   "cell_type": "code",
   "execution_count": 28,
   "metadata": {},
   "outputs": [],
   "source": [
    "# if else stuctures"
   ]
  },
  {
   "cell_type": "code",
   "execution_count": 31,
   "metadata": {},
   "outputs": [
    {
     "name": "stdout",
     "output_type": "stream",
     "text": [
      "False is working\n"
     ]
    }
   ],
   "source": [
    "if False:\n",
    "    print('True is working')\n",
    "else:\n",
    "    print('False is working')"
   ]
  },
  {
   "cell_type": "code",
   "execution_count": 35,
   "metadata": {},
   "outputs": [
    {
     "name": "stdout",
     "output_type": "stream",
     "text": [
      "you are just a kid\n"
     ]
    }
   ],
   "source": [
    "age = 10\n",
    "if age > 15:\n",
    "    print('you are too young now')\n",
    "else:\n",
    "    print('you are just a kid')"
   ]
  },
  {
   "cell_type": "code",
   "execution_count": 52,
   "metadata": {},
   "outputs": [
    {
     "name": "stdout",
     "output_type": "stream",
     "text": [
      "you are an adult if you still alive\n",
      "you are a senior citizen, rest in peace\n"
     ]
    }
   ],
   "source": [
    "# we now make this program a little smarter\n",
    "age = 200\n",
    "if age <0:\n",
    "    print('wrong no one can be negative age after birth')\n",
    "else:\n",
    "    if age <= 12:\n",
    "        print('you are young')\n",
    "    else:\n",
    "        if age < 20:\n",
    "            print('you are just a teenager')\n",
    "        else:\n",
    "            print('you are an adult if you still alive')\n",
    "            if age >= 60:\n",
    "                print('you are a senior citizen, rest in peace')\n",
    "            \n",
    "\n",
    "# 2 minutes break\n"
   ]
  },
  {
   "cell_type": "code",
   "execution_count": 55,
   "metadata": {},
   "outputs": [
    {
     "name": "stdout",
     "output_type": "stream",
     "text": [
      "you are too old\n"
     ]
    }
   ],
   "source": [
    "age =76\n",
    "if age <= 10:\n",
    "    print('you are a kid')\n",
    "elif age <= 15:\n",
    "    print('you are growing up')\n",
    "elif age <=18:\n",
    "    print('you are a teenager')\n",
    "elif age <=60:\n",
    "    print('you are an adult')\n",
    "elif age <=75:\n",
    "    print('you are a senior citizen')\n",
    "else:\n",
    "    print('you are too old')"
   ]
  },
  {
   "cell_type": "code",
   "execution_count": 61,
   "metadata": {},
   "outputs": [
    {
     "name": "stdout",
     "output_type": "stream",
     "text": [
      "wrong marks\n"
     ]
    }
   ],
   "source": [
    "marks = -1\n",
    "\n",
    "if marks <60 and marks >=0:\n",
    "    print('Grade F')\n",
    "elif marks <80 and marks >=60:\n",
    "    print('Grade G')\n",
    "elif marks >=80 and marks <= 90:\n",
    "    print('Grade E')\n",
    "elif marks <=100 and marks >=90:\n",
    "    print('Grade A')\n",
    "else:\n",
    "    print('wrong marks')\n"
   ]
  },
  {
   "cell_type": "code",
   "execution_count": null,
   "metadata": {},
   "outputs": [],
   "source": [
    "# complex if else conditions"
   ]
  },
  {
   "cell_type": "code",
   "execution_count": null,
   "metadata": {},
   "outputs": [],
   "source": []
  }
 ],
 "metadata": {
  "kernelspec": {
   "display_name": "Python 3",
   "language": "python",
   "name": "python3"
  },
  "language_info": {
   "codemirror_mode": {
    "name": "ipython",
    "version": 3
   },
   "file_extension": ".py",
   "mimetype": "text/x-python",
   "name": "python",
   "nbconvert_exporter": "python",
   "pygments_lexer": "ipython3",
   "version": "3.11.9"
  }
 },
 "nbformat": 4,
 "nbformat_minor": 2
}
