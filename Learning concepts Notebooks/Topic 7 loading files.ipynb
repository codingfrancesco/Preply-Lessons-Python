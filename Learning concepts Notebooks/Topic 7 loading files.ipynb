{
 "cells": [
  {
   "cell_type": "code",
   "execution_count": 1,
   "metadata": {},
   "outputs": [],
   "source": [
    "fc = {\n",
    "    'apple':'red',\n",
    "    'banana':'yellow',\n",
    "    'orange':'orange',\n",
    "    'mango':'yellow',\n",
    "    'strawberry':'red'   , \n",
    "    'pineapple':'yellow',\n",
    "    'blueberry':'blue',\n",
    "    'grapes':'green'\n",
    "}"
   ]
  },
  {
   "cell_type": "code",
   "execution_count": 3,
   "metadata": {},
   "outputs": [
    {
     "data": {
      "text/plain": [
       "dict_keys(['apple', 'banana', 'orange', 'mango', 'strawberry', 'pineapple', 'blueberry', 'grapes'])"
      ]
     },
     "execution_count": 3,
     "metadata": {},
     "output_type": "execute_result"
    }
   ],
   "source": [
    "fc.keys()"
   ]
  },
  {
   "cell_type": "code",
   "execution_count": 5,
   "metadata": {},
   "outputs": [
    {
     "data": {
      "text/plain": [
       "dict_values(['red', 'yellow', 'orange', 'yellow', 'red', 'yellow', 'blue', 'green'])"
      ]
     },
     "execution_count": 5,
     "metadata": {},
     "output_type": "execute_result"
    }
   ],
   "source": [
    "fc.values()"
   ]
  },
  {
   "cell_type": "code",
   "execution_count": 7,
   "metadata": {},
   "outputs": [
    {
     "data": {
      "text/plain": [
       "dict_items([('apple', 'red'), ('banana', 'yellow'), ('orange', 'orange'), ('mango', 'yellow'), ('strawberry', 'red'), ('pineapple', 'yellow'), ('blueberry', 'blue'), ('grapes', 'green')])"
      ]
     },
     "execution_count": 7,
     "metadata": {},
     "output_type": "execute_result"
    }
   ],
   "source": [
    "fc.items()"
   ]
  },
  {
   "cell_type": "code",
   "execution_count": 8,
   "metadata": {},
   "outputs": [
    {
     "name": "stdout",
     "output_type": "stream",
     "text": [
      "apple red\n",
      "banana yellow\n",
      "orange orange\n",
      "mango yellow\n",
      "strawberry red\n",
      "pineapple yellow\n",
      "blueberry blue\n",
      "grapes green\n"
     ]
    }
   ],
   "source": [
    "for i in fc:\n",
    "    print(i,fc[i])"
   ]
  },
  {
   "cell_type": "code",
   "execution_count": 36,
   "metadata": {},
   "outputs": [
    {
     "name": "stdout",
     "output_type": "stream",
     "text": [
      "what is the color of apple?\n",
      " omg! you should know, it is red!\n",
      "what is the color of banana?\n",
      " omg! you should know, it is yellow!\n",
      "what is the color of orange?\n",
      " omg! you should know, it is orange!\n",
      "what is the color of mango?\n",
      " omg! you should know, it is yellow!\n",
      "what is the color of strawberry?\n",
      " omg! you should know, it is red!\n",
      "what is the color of pineapple?\n",
      " omg! you should know, it is yellow!\n",
      "what is the color of blueberry?\n",
      " omg! you should know, it is blue!\n",
      "what is the color of grapes?\n",
      " omg! you should know, it is green!\n"
     ]
    }
   ],
   "source": [
    "for k,v in fc.items():\n",
    "    print(f'what is the color of {k}?\\n omg! you should know, it is {v}!')\n"
   ]
  },
  {
   "cell_type": "code",
   "execution_count": 34,
   "metadata": {},
   "outputs": [],
   "source": [
    "# ppen data.txt\n",
    "file = open('data.txt')\n",
    "fcb = {}\n",
    "for line in file:\n",
    "    a,b = line.strip().split('. ')\n",
    "    \n",
    "    k,v = b.split(' - ')\n",
    "    fcb[k] = v"
   ]
  },
  {
   "cell_type": "code",
   "execution_count": 37,
   "metadata": {},
   "outputs": [
    {
     "data": {
      "text/plain": [
       "{'Apple': 'Red',\n",
       " 'Strawberry': 'Red',\n",
       " 'Cherry': 'Red',\n",
       " 'Tomato': 'Red',\n",
       " 'Raspberry': 'Red',\n",
       " 'Cranberry': 'Red',\n",
       " 'Watermelon': 'Red and Green',\n",
       " 'Pomegranate': 'Red',\n",
       " 'Red Grapes': 'Red',\n",
       " 'Redcurrant': 'Red',\n",
       " 'Orange': 'Orange',\n",
       " 'Mango': 'Yellow and Orange',\n",
       " 'Peach': 'Orange',\n",
       " 'Apricot': 'Orange',\n",
       " 'Cantaloupe': 'Orange',\n",
       " 'Papaya': 'Orange',\n",
       " 'Tangerine': 'Orange',\n",
       " 'Banana': 'Yellow',\n",
       " 'Lemon': 'Yellow',\n",
       " 'Pineapple': 'Yellow',\n",
       " 'Pear': 'Green',\n",
       " 'Grape': 'Green',\n",
       " 'Kiwi': 'Brown and Green',\n",
       " 'Honeydew Melon': 'Green',\n",
       " 'Lime': 'Green',\n",
       " 'Avocado': 'Green',\n",
       " 'Green Apple': 'Green',\n",
       " 'Green Grapes': 'Green',\n",
       " 'Guava': 'Green',\n",
       " 'Olive': 'Green',\n",
       " 'Blueberry': 'Blue and Purple',\n",
       " 'Blackberry': 'Purple and Black',\n",
       " 'Plum': 'Purple',\n",
       " 'Fig': 'Purple',\n",
       " 'Eggplant': 'Purple',\n",
       " 'Blackcurrant': 'Purple',\n",
       " 'Mulberry': 'Purple',\n",
       " 'Passionfruit': 'Yellow and Purple',\n",
       " 'Dragonfruit': 'Pink and Green',\n",
       " 'Lychee': 'Red and Pink'}"
      ]
     },
     "execution_count": 37,
     "metadata": {},
     "output_type": "execute_result"
    }
   ],
   "source": [
    "fcb"
   ]
  },
  {
   "cell_type": "code",
   "execution_count": null,
   "metadata": {},
   "outputs": [],
   "source": []
  },
  {
   "cell_type": "code",
   "execution_count": 40,
   "metadata": {},
   "outputs": [
    {
     "name": "stdout",
     "output_type": "stream",
     "text": [
      "what is the color of Apple?\n",
      " omg! you should know, it is Red!\n",
      "what is the color of Strawberry?\n",
      " omg! you should know, it is Red!\n",
      "what is the color of Cherry?\n",
      " omg! you should know, it is Red!\n",
      "what is the color of Tomato?\n",
      " omg! you should know, it is Red!\n",
      "what is the color of Raspberry?\n",
      " omg! you should know, it is Red!\n",
      "what is the color of Cranberry?\n",
      " omg! you should know, it is Red!\n",
      "what is the color of Watermelon?\n",
      " omg! you should know, it is Red and Green!\n",
      "what is the color of Pomegranate?\n",
      " omg! you should know, it is Red!\n",
      "what is the color of Red Grapes?\n",
      " omg! you should know, it is Red!\n",
      "what is the color of Redcurrant?\n",
      " omg! you should know, it is Red!\n",
      "what is the color of Orange?\n",
      " omg! you should know, it is Orange!\n",
      "what is the color of Mango?\n",
      " omg! you should know, it is Yellow and Orange!\n",
      "what is the color of Peach?\n",
      " omg! you should know, it is Orange!\n",
      "what is the color of Apricot?\n",
      " omg! you should know, it is Orange!\n",
      "what is the color of Cantaloupe?\n",
      " omg! you should know, it is Orange!\n",
      "what is the color of Papaya?\n",
      " omg! you should know, it is Orange!\n",
      "what is the color of Tangerine?\n",
      " omg! you should know, it is Orange!\n",
      "what is the color of Banana?\n",
      " omg! you should know, it is Yellow!\n",
      "what is the color of Lemon?\n",
      " omg! you should know, it is Yellow!\n",
      "what is the color of Pineapple?\n",
      " omg! you should know, it is Yellow!\n",
      "what is the color of Pear?\n",
      " omg! you should know, it is Green!\n",
      "what is the color of Grape?\n",
      " omg! you should know, it is Green!\n",
      "what is the color of Kiwi?\n",
      " omg! you should know, it is Brown and Green!\n",
      "what is the color of Honeydew Melon?\n",
      " omg! you should know, it is Green!\n",
      "what is the color of Lime?\n",
      " omg! you should know, it is Green!\n",
      "what is the color of Avocado?\n",
      " omg! you should know, it is Green!\n",
      "what is the color of Green Apple?\n",
      " omg! you should know, it is Green!\n",
      "what is the color of Green Grapes?\n",
      " omg! you should know, it is Green!\n",
      "what is the color of Guava?\n",
      " omg! you should know, it is Green!\n",
      "what is the color of Olive?\n",
      " omg! you should know, it is Green!\n",
      "what is the color of Blueberry?\n",
      " omg! you should know, it is Blue and Purple!\n",
      "what is the color of Blackberry?\n",
      " omg! you should know, it is Purple and Black!\n",
      "what is the color of Plum?\n",
      " omg! you should know, it is Purple!\n",
      "what is the color of Fig?\n",
      " omg! you should know, it is Purple!\n",
      "what is the color of Eggplant?\n",
      " omg! you should know, it is Purple!\n",
      "what is the color of Blackcurrant?\n",
      " omg! you should know, it is Purple!\n",
      "what is the color of Mulberry?\n",
      " omg! you should know, it is Purple!\n",
      "what is the color of Passionfruit?\n",
      " omg! you should know, it is Yellow and Purple!\n",
      "what is the color of Dragonfruit?\n",
      " omg! you should know, it is Pink and Green!\n",
      "what is the color of Lychee?\n",
      " omg! you should know, it is Red and Pink!\n"
     ]
    }
   ],
   "source": [
    "for k,v in fcb.items():\n",
    "    print(f'what is the color of {k}?\\n omg! you should know, it is {v}!')"
   ]
  },
  {
   "cell_type": "code",
   "execution_count": 56,
   "metadata": {},
   "outputs": [],
   "source": [
    "file2 = open('data2.txt')\n",
    "d = {}\n",
    "for i in file2:\n",
    "    b = (i.strip().split('. '))[1]\n",
    "    k,v = (b.split(' $'))\n",
    "    d[k] = eval(v)\n",
    "    "
   ]
  },
  {
   "cell_type": "code",
   "execution_count": 57,
   "metadata": {},
   "outputs": [
    {
     "name": "stdout",
     "output_type": "stream",
     "text": [
      "{'Apple': 0.75, 'Strawberry': 3.99, 'Cherry': 4.5, 'Tomato': 1.25, 'Raspberry': 5.99, 'Cranberry': 2.5, 'Watermelon': 0.45, 'Pomegranate': 1.99, 'Red Grapes': 2.79, 'Orange': 0.8, 'Mango': 1.5, 'Peach': 1.25, 'Apricot': 2.0, 'Cantaloupe': 0.99, 'Papaya': 1.75, 'Tangerine': 0.6, 'Banana': 0.5, 'Lemon': 0.5, 'Pineapple': 2.99, 'Pear': 1.0, 'Grape': 3.49, 'Kiwi': 0.75, 'Honeydew Melon': 0.79, 'Lime': 0.3, 'Avocado': 1.5, 'Guava': 2.5, 'Olive': 3.99, 'Blueberry': 3.99, 'Blackberry': 4.99, 'Plum': 1.99, 'Fig': 4.99, 'Eggplant': 1.99, 'Blackcurrant': 5.99, 'Mulberry': 3.0, 'Passionfruit': 2.99, 'Dragonfruit': 4.5, 'Lychee': 3.5, 'Starfruit': 2.25, 'Persimmon': 1.99, 'Nectarine': 2.5, 'Coconut': 2.99, 'Jackfruit': 1.75, 'Olives': 3.99, 'Pomelo': 2.49, 'Tamarind': 3.99, 'Ugli': 2.5, 'Ackee': 4.5, 'Bignay': 3.5}\n"
     ]
    }
   ],
   "source": [
    "print(d)"
   ]
  },
  {
   "cell_type": "code",
   "execution_count": 62,
   "metadata": {},
   "outputs": [
    {
     "name": "stdout",
     "output_type": "stream",
     "text": [
      "the price of the Apple is 1.5\n",
      "the price of the Strawberry is 7.98\n",
      "the price of the Cherry is 9.0\n",
      "the price of the Tomato is 2.5\n",
      "the price of the Raspberry is 11.98\n",
      "the price of the Cranberry is 5.0\n",
      "the price of the Watermelon is 0.9\n",
      "the price of the Pomegranate is 3.98\n",
      "the price of the Red Grapes is 5.58\n",
      "the price of the Orange is 1.6\n",
      "the price of the Mango is 3.0\n",
      "the price of the Peach is 2.5\n",
      "the price of the Apricot is 4.0\n",
      "the price of the Cantaloupe is 1.98\n",
      "the price of the Papaya is 3.5\n",
      "the price of the Tangerine is 1.2\n",
      "the price of the Banana is 1.0\n",
      "the price of the Lemon is 1.0\n",
      "the price of the Pineapple is 5.98\n",
      "the price of the Pear is 2.0\n",
      "the price of the Grape is 6.98\n",
      "the price of the Kiwi is 1.5\n",
      "the price of the Honeydew Melon is 1.58\n",
      "the price of the Lime is 0.6\n",
      "the price of the Avocado is 3.0\n",
      "the price of the Guava is 5.0\n",
      "the price of the Olive is 7.98\n",
      "the price of the Blueberry is 7.98\n",
      "the price of the Blackberry is 9.98\n",
      "the price of the Plum is 3.98\n",
      "the price of the Fig is 9.98\n",
      "the price of the Eggplant is 3.98\n",
      "the price of the Blackcurrant is 11.98\n",
      "the price of the Mulberry is 6.0\n",
      "the price of the Passionfruit is 5.98\n",
      "the price of the Dragonfruit is 9.0\n",
      "the price of the Lychee is 7.0\n",
      "the price of the Starfruit is 4.5\n",
      "the price of the Persimmon is 3.98\n",
      "the price of the Nectarine is 5.0\n",
      "the price of the Coconut is 5.98\n",
      "the price of the Jackfruit is 3.5\n",
      "the price of the Olives is 7.98\n",
      "the price of the Pomelo is 4.98\n",
      "the price of the Tamarind is 7.98\n",
      "the price of the Ugli is 5.0\n",
      "the price of the Ackee is 9.0\n",
      "the price of the Bignay is 7.0\n"
     ]
    }
   ],
   "source": [
    "\n",
    "#price increased 10 percent\n",
    "for i in d:\n",
    "    print(f'the price of the {i} is {d[i]*2}')\n"
   ]
  },
  {
   "cell_type": "code",
   "execution_count": null,
   "metadata": {},
   "outputs": [],
   "source": [
    "y"
   ]
  }
 ],
 "metadata": {
  "kernelspec": {
   "display_name": "Python 3",
   "language": "python",
   "name": "python3"
  },
  "language_info": {
   "codemirror_mode": {
    "name": "ipython",
    "version": 3
   },
   "file_extension": ".py",
   "mimetype": "text/x-python",
   "name": "python",
   "nbconvert_exporter": "python",
   "pygments_lexer": "ipython3",
   "version": "3.11.9"
  }
 },
 "nbformat": 4,
 "nbformat_minor": 2
}
